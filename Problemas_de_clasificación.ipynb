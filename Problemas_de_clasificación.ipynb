{
  "nbformat": 4,
  "nbformat_minor": 0,
  "metadata": {
    "colab": {
      "provenance": []
    },
    "kernelspec": {
      "name": "python3",
      "display_name": "Python 3"
    },
    "language_info": {
      "name": "python"
    }
  },
  "cells": [
    {
      "cell_type": "code",
      "execution_count": 184,
      "metadata": {
        "id": "yuJaci2W8cVZ"
      },
      "outputs": [],
      "source": [
        "import random\n",
        "import pandas as pd\n",
        "import numpy as np\n",
        "import matplotlib.pyplot as plt\n",
        "\n",
        "\n",
        "from sklearn.svm import SVC\n",
        "from sklearn.model_selection import StratifiedKFold\n",
        "from sklearn.metrics import classification_report\n",
        "from sklearn.discriminant_analysis import LinearDiscriminantAnalysis\n",
        "from sklearn.tree import DecisionTreeClassifier\n",
        "from sklearn.neighbors import KNeighborsClassifier\n",
        "from sklearn.linear_model import LogisticRegression\n",
        "from sklearn.ensemble import RandomForestClassifier, GradientBoostingClassifier\n",
        "from sklearn.naive_bayes import GaussianNB\n",
        "from sklearn.feature_selection import SelectKBest, f_classif\n",
        "from sklearn.feature_selection import VarianceThreshold\n",
        "from sklearn.metrics import classification_report, accuracy_score\n",
        "from sklearn.feature_selection import SequentialFeatureSelector\n",
        "from sklearn.feature_selection import RFE\n",
        "from sklearn.model_selection import GridSearchCV, StratifiedKFold, cross_val_predict\n",
        "from sklearn.preprocessing import StandardScaler"
      ]
    },
    {
      "cell_type": "code",
      "source": [
        "data = np.loadtxt(\"P1_4.txt\")"
      ],
      "metadata": {
        "id": "ovK1qJR-81pQ"
      },
      "execution_count": 152,
      "outputs": []
    },
    {
      "cell_type": "code",
      "source": [
        "x = data[:,1:]\n",
        "y = data[:,0]"
      ],
      "metadata": {
        "id": "ABCPLBnI9BIV"
      },
      "execution_count": 153,
      "outputs": []
    },
    {
      "cell_type": "code",
      "source": [
        "print(\"----- Imbalanced sample -----\")\n",
        "x = data[:,1:]\n",
        "y = data[:,0]\n",
        "\n",
        "kf = StratifiedKFold(n_splits=5, shuffle = True)\n",
        "clf = SVC(kernel = 'linear')\n",
        "\n",
        "cv_y_test = []\n",
        "cv_y_pred = []\n",
        "\n",
        "for train_index, test_index in kf.split(x, y):\n",
        "\n",
        "    x_train = x[train_index, :]\n",
        "    y_train = y[train_index]\n",
        "    clf.fit(x_train, y_train)\n",
        "\n",
        "    x_test = x[test_index, :]\n",
        "    y_test = y[test_index]\n",
        "    y_pred = clf.predict(x_test)\n",
        "\n",
        "    cv_y_test.append(y_test)\n",
        "    cv_y_pred.append(y_pred)\n",
        "\n",
        "print(classification_report(np.concatenate(cv_y_test), np.concatenate(cv_y_pred)))"
      ],
      "metadata": {
        "colab": {
          "base_uri": "https://localhost:8080/"
        },
        "id": "22194b4S-B2N",
        "outputId": "5089111c-3e83-4847-fbe8-d519fd538c2d"
      },
      "execution_count": 154,
      "outputs": [
        {
          "output_type": "stream",
          "name": "stdout",
          "text": [
            "----- Imbalanced sample -----\n",
            "              precision    recall  f1-score   support\n",
            "\n",
            "         1.0       0.87      0.87      0.87       299\n",
            "         2.0       0.96      0.96      0.96       895\n",
            "\n",
            "    accuracy                           0.94      1194\n",
            "   macro avg       0.92      0.92      0.92      1194\n",
            "weighted avg       0.94      0.94      0.94      1194\n",
            "\n"
          ]
        }
      ]
    },
    {
      "cell_type": "code",
      "source": [
        "print(\"----- Subsamplig -----\")\n",
        "\n",
        "clf = SVC(kernel = 'linear')\n",
        "kf = StratifiedKFold(n_splits=5, shuffle = True)\n",
        "\n",
        "cv_y_test = []\n",
        "cv_y_pred = []\n",
        "\n",
        "for train_index, test_index in kf.split(x, y):\n",
        "\n",
        "    # Training phase\n",
        "    x_train = x[train_index, :]\n",
        "    y_train = y[train_index]\n",
        "\n",
        "    x1 = x_train[y_train==1, :]\n",
        "    y1 = y_train[y_train==1]\n",
        "    n1 = len(y1)\n",
        "\n",
        "    x2 = x_train[y_train==2, :]\n",
        "    y2 = y_train[y_train==2]\n",
        "    n2 = len(y2)\n",
        "\n",
        "    ind = random.sample([i for i in range(n2)], n1)\n",
        "\n",
        "    x_sub = np.concatenate((x1, x2[ind,:]), axis=0)\n",
        "    y_sub = np.concatenate((y1, y2[ind]), axis=0)\n",
        "\n",
        "    clf.fit(x_sub, y_sub)\n",
        "\n",
        "    # Test phase\n",
        "    x_test = x[test_index, :]\n",
        "    y_test = y[test_index]\n",
        "    y_pred = clf.predict(x_test)\n",
        "\n",
        "    cv_y_test.append(y_test)\n",
        "    cv_y_pred.append(y_pred)\n",
        "\n",
        "print(classification_report(np.concatenate(cv_y_test), np.concatenate(cv_y_pred)))"
      ],
      "metadata": {
        "colab": {
          "base_uri": "https://localhost:8080/"
        },
        "id": "9mSZ5PTU-JiK",
        "outputId": "38cd5ba2-0d67-4fee-f850-c1edebbc2849"
      },
      "execution_count": 155,
      "outputs": [
        {
          "output_type": "stream",
          "name": "stdout",
          "text": [
            "----- Subsamplig -----\n",
            "              precision    recall  f1-score   support\n",
            "\n",
            "         1.0       0.73      0.89      0.80       299\n",
            "         2.0       0.96      0.89      0.93       895\n",
            "\n",
            "    accuracy                           0.89      1194\n",
            "   macro avg       0.85      0.89      0.87      1194\n",
            "weighted avg       0.90      0.89      0.90      1194\n",
            "\n"
          ]
        }
      ]
    },
    {
      "cell_type": "code",
      "source": [
        "print(\"----- Upsampling -----\")\n",
        "clf = SVC(kernel='linear')\n",
        "kf = StratifiedKFold(n_splits=5, shuffle=True)\n",
        "\n",
        "cv_y_test = []\n",
        "cv_y_pred = []\n",
        "\n",
        "for train_index, test_index in kf.split(x, y):\n",
        "\n",
        "    x_train = x[train_index, :]\n",
        "    y_train = y[train_index]\n",
        "\n",
        "    x1 = x_train[y_train==1, :]\n",
        "    y1 = y_train[y_train==1]\n",
        "    n1 = len(y1)\n",
        "\n",
        "    x2 = x_train[y_train==2, :]\n",
        "    y2 = y_train[y_train==2]\n",
        "    n2 = len(y2)\n",
        "\n",
        "    ind = random.choices([i for i in range(n1)], k=n2)\n",
        "\n",
        "    x_sub = np.concatenate((x1[ind,:], x2), axis=0)\n",
        "    y_sub = np.concatenate((y1[ind], y2), axis=0)\n",
        "\n",
        "    clf.fit(x_sub, y_sub)\n",
        "\n",
        "    x_test = x[test_index, :]\n",
        "    y_test = y[test_index]\n",
        "    y_pred = clf.predict(x_test)\n",
        "\n",
        "    cv_y_test.append(y_test)\n",
        "    cv_y_pred.append(y_pred)\n",
        "\n",
        "print(classification_report(np.concatenate(cv_y_test), np.concatenate(cv_y_pred)))"
      ],
      "metadata": {
        "colab": {
          "base_uri": "https://localhost:8080/"
        },
        "id": "RXW_91NcT5d5",
        "outputId": "967aab30-0455-4df9-db95-cce59969db51"
      },
      "execution_count": 156,
      "outputs": [
        {
          "output_type": "stream",
          "name": "stdout",
          "text": [
            "----- Upsampling -----\n",
            "              precision    recall  f1-score   support\n",
            "\n",
            "         1.0       0.84      0.85      0.84       299\n",
            "         2.0       0.95      0.94      0.95       895\n",
            "\n",
            "    accuracy                           0.92      1194\n",
            "   macro avg       0.89      0.90      0.90      1194\n",
            "weighted avg       0.92      0.92      0.92      1194\n",
            "\n"
          ]
        }
      ]
    },
    {
      "cell_type": "code",
      "source": [
        "print(\"----- Weighted loss function -----\")\n",
        "clf = SVC(kernel='linear', class_weight='balanced')\n",
        "kf = StratifiedKFold(n_splits=5, shuffle=True)\n",
        "\n",
        "cv_y_test = []\n",
        "cv_y_pred = []\n",
        "\n",
        "for train_index, test_index in kf.split(x, y):\n",
        "\n",
        "    x_train = x[train_index, :]\n",
        "    y_train = y[train_index]\n",
        "    clf.fit(x_train, y_train)\n",
        "\n",
        "    x_test = x[test_index, :]\n",
        "    y_test = y[test_index]\n",
        "    y_pred = clf.predict(x_test)\n",
        "\n",
        "    cv_y_test.append(y_test)\n",
        "    cv_y_pred.append(y_pred)\n",
        "\n",
        "print(classification_report(np.concatenate(cv_y_test), np.concatenate(cv_y_pred)))"
      ],
      "metadata": {
        "colab": {
          "base_uri": "https://localhost:8080/"
        },
        "id": "dMx56WSbUQiu",
        "outputId": "1922bfbf-b067-43c6-aba5-54137eed435f"
      },
      "execution_count": 157,
      "outputs": [
        {
          "output_type": "stream",
          "name": "stdout",
          "text": [
            "----- Weighted loss function -----\n",
            "              precision    recall  f1-score   support\n",
            "\n",
            "         1.0       0.83      0.88      0.85       299\n",
            "         2.0       0.96      0.94      0.95       895\n",
            "\n",
            "    accuracy                           0.92      1194\n",
            "   macro avg       0.89      0.91      0.90      1194\n",
            "weighted avg       0.92      0.92      0.92      1194\n",
            "\n"
          ]
        }
      ]
    },
    {
      "cell_type": "code",
      "source": [
        "print('----- Linear-SVM -----')\n",
        "kf = StratifiedKFold(n_splits=5, shuffle = True)\n",
        "\n",
        "cv_y_test = []\n",
        "cv_y_pred = []\n",
        "\n",
        "for train_index, test_index in kf.split(x, y):\n",
        "\n",
        "    x_train = x[train_index, :]\n",
        "    y_train = y[train_index]\n",
        "\n",
        "    x_test = x[test_index, :]\n",
        "    y_test = y[test_index]\n",
        "\n",
        "    clf = SVC(kernel = 'linear')\n",
        "    clf.fit(x_train, y_train)\n",
        "\n",
        "    y_pred = clf.predict(x_test)\n",
        "\n",
        "    cv_y_test.append(y_test)\n",
        "    cv_y_pred.append(y_pred)\n",
        "\n",
        "print(classification_report(np.concatenate(cv_y_test), np.concatenate(cv_y_pred)))\n"
      ],
      "metadata": {
        "colab": {
          "base_uri": "https://localhost:8080/"
        },
        "id": "QmtcwB51VnAc",
        "outputId": "2332fb1a-e2b7-45c1-b2a4-8c0378ae14dd"
      },
      "execution_count": 158,
      "outputs": [
        {
          "output_type": "stream",
          "name": "stdout",
          "text": [
            "----- Linear-SVM -----\n",
            "              precision    recall  f1-score   support\n",
            "\n",
            "         1.0       0.91      0.86      0.88       299\n",
            "         2.0       0.95      0.97      0.96       895\n",
            "\n",
            "    accuracy                           0.94      1194\n",
            "   macro avg       0.93      0.91      0.92      1194\n",
            "weighted avg       0.94      0.94      0.94      1194\n",
            "\n"
          ]
        }
      ]
    },
    {
      "cell_type": "code",
      "source": [
        "print('----- RBF-SVM -----')\n",
        "kf = StratifiedKFold(n_splits=5, shuffle = True)\n",
        "\n",
        "cv_y_test = []\n",
        "cv_y_pred = []\n",
        "\n",
        "for train_index, test_index in kf.split(x, y):\n",
        "\n",
        "    x_train = x[train_index, :]\n",
        "    y_train = y[train_index]\n",
        "\n",
        "    x_test = x[test_index, :]\n",
        "    y_test = y[test_index]\n",
        "\n",
        "    clf = SVC(kernel = 'rbf')\n",
        "    clf.fit(x_train, y_train)\n",
        "\n",
        "    y_pred = clf.predict(x_test)\n",
        "\n",
        "    cv_y_test.append(y_test)\n",
        "    cv_y_pred.append(y_pred)\n",
        "\n",
        "print(classification_report(np.concatenate(cv_y_test), np.concatenate(cv_y_pred)))"
      ],
      "metadata": {
        "colab": {
          "base_uri": "https://localhost:8080/"
        },
        "id": "a2qT_PfxVoFC",
        "outputId": "ac5a085c-74da-4b8e-b9cf-dd0963b7b425"
      },
      "execution_count": 159,
      "outputs": [
        {
          "output_type": "stream",
          "name": "stdout",
          "text": [
            "----- RBF-SVM -----\n",
            "              precision    recall  f1-score   support\n",
            "\n",
            "         1.0       0.98      0.84      0.90       299\n",
            "         2.0       0.95      0.99      0.97       895\n",
            "\n",
            "    accuracy                           0.95      1194\n",
            "   macro avg       0.96      0.91      0.94      1194\n",
            "weighted avg       0.95      0.95      0.95      1194\n",
            "\n"
          ]
        }
      ]
    },
    {
      "cell_type": "code",
      "source": [
        "print('----- KNN -----')\n",
        "kf = StratifiedKFold(n_splits=5, shuffle = True)\n",
        "\n",
        "cv_y_test = []\n",
        "cv_y_pred = []\n",
        "\n",
        "for train_index, test_index in kf.split(x, y):\n",
        "\n",
        "    x_train = x[train_index, :]\n",
        "    y_train = y[train_index]\n",
        "\n",
        "    x_test = x[test_index, :]\n",
        "    y_test = y[test_index]\n",
        "\n",
        "    clf = KNeighborsClassifier(n_neighbors=3)\n",
        "    clf.fit(x_train, y_train)\n",
        "\n",
        "    y_pred = clf.predict(x_test)\n",
        "\n",
        "    cv_y_test.append(y_test)\n",
        "    cv_y_pred.append(y_pred)\n",
        "\n",
        "print(classification_report(np.concatenate(cv_y_test), np.concatenate(cv_y_pred)))"
      ],
      "metadata": {
        "colab": {
          "base_uri": "https://localhost:8080/"
        },
        "id": "B6vF4EMMVy_m",
        "outputId": "6d3f36d4-1081-4168-f8d3-03c3a9e35358"
      },
      "execution_count": 160,
      "outputs": [
        {
          "output_type": "stream",
          "name": "stdout",
          "text": [
            "----- KNN -----\n",
            "              precision    recall  f1-score   support\n",
            "\n",
            "         1.0       0.89      0.81      0.85       299\n",
            "         2.0       0.94      0.97      0.95       895\n",
            "\n",
            "    accuracy                           0.93      1194\n",
            "   macro avg       0.91      0.89      0.90      1194\n",
            "weighted avg       0.93      0.93      0.93      1194\n",
            "\n"
          ]
        }
      ]
    },
    {
      "cell_type": "code",
      "source": [
        "print('----- Decision tree -----')\n",
        "kf = StratifiedKFold(n_splits=5, shuffle = True)\n",
        "\n",
        "cv_y_test = []\n",
        "cv_y_pred = []\n",
        "\n",
        "for train_index, test_index in kf.split(x, y):\n",
        "\n",
        "    x_train = x[train_index, :]\n",
        "    y_train = y[train_index]\n",
        "\n",
        "    x_test = x[test_index, :]\n",
        "    y_test = y[test_index]\n",
        "\n",
        "    clf = DecisionTreeClassifier()\n",
        "    clf.fit(x_train, y_train)\n",
        "\n",
        "    y_pred = clf.predict(x_test)\n",
        "\n",
        "    cv_y_test.append(y_test)\n",
        "    cv_y_pred.append(y_pred)\n",
        "\n",
        "print(classification_report(np.concatenate(cv_y_test), np.concatenate(cv_y_pred)))"
      ],
      "metadata": {
        "colab": {
          "base_uri": "https://localhost:8080/"
        },
        "id": "rYL8YTvFWCvq",
        "outputId": "c1b76657-e6ef-47be-adc5-d8227cdf5c2e"
      },
      "execution_count": 161,
      "outputs": [
        {
          "output_type": "stream",
          "name": "stdout",
          "text": [
            "----- Decision tree -----\n",
            "              precision    recall  f1-score   support\n",
            "\n",
            "         1.0       0.72      0.71      0.71       299\n",
            "         2.0       0.90      0.91      0.90       895\n",
            "\n",
            "    accuracy                           0.86      1194\n",
            "   macro avg       0.81      0.81      0.81      1194\n",
            "weighted avg       0.86      0.86      0.86      1194\n",
            "\n"
          ]
        }
      ]
    },
    {
      "cell_type": "code",
      "source": [
        "print('----- Linear Discriminant Analysis -----')\n",
        "\n",
        "kf = StratifiedKFold(n_splits=5, shuffle = True)\n",
        "\n",
        "cv_y_test = []\n",
        "cv_y_pred = []\n",
        "\n",
        "for train_index, test_index in kf.split(x, y):\n",
        "\n",
        "    x_train = x[train_index, :]\n",
        "    y_train = y[train_index]\n",
        "\n",
        "    x_test = x[test_index, :]\n",
        "    y_test = y[test_index]\n",
        "\n",
        "    clf = LinearDiscriminantAnalysis()\n",
        "    clf.fit(x_train, y_train)\n",
        "\n",
        "    y_pred = clf.predict(x_test)\n",
        "\n",
        "    cv_y_test.append(y_test)\n",
        "    cv_y_pred.append(y_pred)\n",
        "\n",
        "print(classification_report(np.concatenate(cv_y_test), np.concatenate(cv_y_pred)))"
      ],
      "metadata": {
        "colab": {
          "base_uri": "https://localhost:8080/"
        },
        "id": "JQE1AYMdWOWm",
        "outputId": "7f56a891-b44e-47e7-c658-87aa52cf7c93"
      },
      "execution_count": 162,
      "outputs": [
        {
          "output_type": "stream",
          "name": "stdout",
          "text": [
            "----- Linear Discriminant Analysis -----\n",
            "              precision    recall  f1-score   support\n",
            "\n",
            "         1.0       0.89      0.87      0.88       299\n",
            "         2.0       0.96      0.97      0.96       895\n",
            "\n",
            "    accuracy                           0.94      1194\n",
            "   macro avg       0.92      0.92      0.92      1194\n",
            "weighted avg       0.94      0.94      0.94      1194\n",
            "\n"
          ]
        }
      ]
    },
    {
      "cell_type": "code",
      "source": [
        "print('----- Naive Bayes -----')\n",
        "\n",
        "kf = StratifiedKFold(n_splits=5, shuffle = True)\n",
        "\n",
        "cv_y_test = []\n",
        "cv_y_pred = []\n",
        "\n",
        "for train_index, test_index in kf.split(x, y):\n",
        "\n",
        "    x_train = x[train_index, :]\n",
        "    y_train = y[train_index]\n",
        "    x_test = x[test_index, :]\n",
        "    y_test = y[test_index]\n",
        "\n",
        "    clf = GaussianNB()\n",
        "    clf.fit(x_train, y_train)\n",
        "\n",
        "    y_pred = clf.predict(x_test)\n",
        "\n",
        "    cv_y_test.append(y_test)\n",
        "    cv_y_pred.append(y_pred)\n",
        "\n",
        "print(classification_report(np.concatenate(cv_y_test), np.concatenate(cv_y_pred)))"
      ],
      "metadata": {
        "colab": {
          "base_uri": "https://localhost:8080/"
        },
        "id": "JJa646nsWUmB",
        "outputId": "81aea4da-edb2-408e-d16a-9dc5ae119483"
      },
      "execution_count": 163,
      "outputs": [
        {
          "output_type": "stream",
          "name": "stdout",
          "text": [
            "----- Naive Bayes -----\n",
            "              precision    recall  f1-score   support\n",
            "\n",
            "         1.0       0.84      0.88      0.86       299\n",
            "         2.0       0.96      0.94      0.95       895\n",
            "\n",
            "    accuracy                           0.93      1194\n",
            "   macro avg       0.90      0.91      0.90      1194\n",
            "weighted avg       0.93      0.93      0.93      1194\n",
            "\n"
          ]
        }
      ]
    },
    {
      "cell_type": "code",
      "source": [
        "print('----- Gradient Boosting -----')\n",
        "\n",
        "kf = StratifiedKFold(n_splits=5, shuffle = True)\n",
        "\n",
        "cv_y_test = []\n",
        "cv_y_pred = []\n",
        "\n",
        "for train_index, test_index in kf.split(x, y):\n",
        "\n",
        "    x_train = x[train_index, :]\n",
        "    y_train = y[train_index]\n",
        "    x_test = x[test_index, :]\n",
        "    y_test = y[test_index]\n",
        "\n",
        "    clf = GradientBoostingClassifier()\n",
        "    clf.fit(x_train, y_train)\n",
        "\n",
        "    y_pred = clf.predict(x_test)\n",
        "\n",
        "    cv_y_test.append(y_test)\n",
        "    cv_y_pred.append(y_pred)\n",
        "\n",
        "print(classification_report(np.concatenate(cv_y_test), np.concatenate(cv_y_pred)))"
      ],
      "metadata": {
        "colab": {
          "base_uri": "https://localhost:8080/"
        },
        "id": "hNVK5D6XXPD4",
        "outputId": "51e5d0ba-180b-423c-e7b5-ce244fa9dfc6"
      },
      "execution_count": 164,
      "outputs": [
        {
          "output_type": "stream",
          "name": "stdout",
          "text": [
            "----- Gradient Boosting -----\n",
            "              precision    recall  f1-score   support\n",
            "\n",
            "         1.0       0.90      0.78      0.83       299\n",
            "         2.0       0.93      0.97      0.95       895\n",
            "\n",
            "    accuracy                           0.92      1194\n",
            "   macro avg       0.91      0.87      0.89      1194\n",
            "weighted avg       0.92      0.92      0.92      1194\n",
            "\n"
          ]
        }
      ]
    },
    {
      "cell_type": "code",
      "source": [
        "print('----- Random Forest -----')\n",
        "\n",
        "kf = StratifiedKFold(n_splits=5, shuffle = True)\n",
        "\n",
        "cv_y_test = []\n",
        "cv_y_pred = []\n",
        "\n",
        "for train_index, test_index in kf.split(x, y):\n",
        "\n",
        "    x_train = x[train_index, :]\n",
        "    y_train = y[train_index]\n",
        "    x_test = x[test_index, :]\n",
        "    y_test = y[test_index]\n",
        "\n",
        "    clf = RandomForestClassifier(n_estimators=100)\n",
        "    clf.fit(x_train, y_train)\n",
        "\n",
        "    y_pred = clf.predict(x_test)\n",
        "\n",
        "    cv_y_test.append(y_test)\n",
        "    cv_y_pred.append(y_pred)\n",
        "\n",
        "print(classification_report(np.concatenate(cv_y_test), np.concatenate(cv_y_pred)))"
      ],
      "metadata": {
        "colab": {
          "base_uri": "https://localhost:8080/"
        },
        "id": "GYZ-1PKCXedS",
        "outputId": "4cb1a505-1e15-495d-d127-075d20e525d9"
      },
      "execution_count": 165,
      "outputs": [
        {
          "output_type": "stream",
          "name": "stdout",
          "text": [
            "----- Random Forest -----\n",
            "              precision    recall  f1-score   support\n",
            "\n",
            "         1.0       0.94      0.78      0.85       299\n",
            "         2.0       0.93      0.98      0.96       895\n",
            "\n",
            "    accuracy                           0.93      1194\n",
            "   macro avg       0.94      0.88      0.90      1194\n",
            "weighted avg       0.93      0.93      0.93      1194\n",
            "\n"
          ]
        }
      ]
    },
    {
      "cell_type": "code",
      "source": [
        "print('----- Logistic Regression -----')\n",
        "\n",
        "kf = StratifiedKFold(n_splits=5, shuffle = True)\n",
        "\n",
        "cv_y_test = []\n",
        "cv_y_pred = []\n",
        "\n",
        "for train_index, test_index in kf.split(x, y):\n",
        "\n",
        "    x_train = x[train_index, :]\n",
        "    y_train = y[train_index]\n",
        "    x_test = x[test_index, :]\n",
        "    y_test = y[test_index]\n",
        "\n",
        "\n",
        "    clf = LogisticRegression(max_iter=1000)\n",
        "    clf.fit(x_train, y_train)\n",
        "\n",
        "    y_pred = clf.predict(x_test)\n",
        "\n",
        "    cv_y_test.append(y_test)\n",
        "    cv_y_pred.append(y_pred)\n",
        "\n",
        "print(classification_report(np.concatenate(cv_y_test), np.concatenate(cv_y_pred)))"
      ],
      "metadata": {
        "colab": {
          "base_uri": "https://localhost:8080/"
        },
        "id": "vpBfP8UsX5yI",
        "outputId": "c6639222-075b-4ee0-b7e7-e3071d117045"
      },
      "execution_count": 166,
      "outputs": [
        {
          "output_type": "stream",
          "name": "stdout",
          "text": [
            "----- Logistic Regression -----\n",
            "              precision    recall  f1-score   support\n",
            "\n",
            "         1.0       0.92      0.88      0.90       299\n",
            "         2.0       0.96      0.97      0.97       895\n",
            "\n",
            "    accuracy                           0.95      1194\n",
            "   macro avg       0.94      0.93      0.93      1194\n",
            "weighted avg       0.95      0.95      0.95      1194\n",
            "\n"
          ]
        }
      ]
    },
    {
      "cell_type": "code",
      "source": [
        "n_features = x.shape[1]"
      ],
      "metadata": {
        "id": "uWloMScjZPx8"
      },
      "execution_count": 167,
      "outputs": []
    },
    {
      "cell_type": "code",
      "source": [
        "constant_filter = VarianceThreshold(threshold=0)\n",
        "x_filtered = constant_filter.fit_transform(x)\n",
        "\n",
        "print(f\"Número de características originales: {x.shape[1]}\")\n",
        "print(f\"Número de características restantes: {x_filtered.shape[1]}\")"
      ],
      "metadata": {
        "colab": {
          "base_uri": "https://localhost:8080/"
        },
        "id": "lYoDGjJParNF",
        "outputId": "f37a3a7a-4fd4-47a6-8381-05a4e69af94e"
      },
      "execution_count": 168,
      "outputs": [
        {
          "output_type": "stream",
          "name": "stdout",
          "text": [
            "Número de características originales: 154\n",
            "Número de características restantes: 153\n"
          ]
        }
      ]
    },
    {
      "cell_type": "code",
      "source": [
        "print(\"----- Feature selection using 50% of predictors -----\")\n",
        "\n",
        "fselection = SelectKBest(f_classif, k=int(x_filtered.shape[1] / 2))\n",
        "fselection.fit(x_filtered, y)\n",
        "\n",
        "clf = SVC(kernel='linear')\n",
        "x_transformed = fselection.transform(x_filtered)\n",
        "clf.fit(x_transformed, y)\n",
        "\n",
        "cv_y_test = []\n",
        "cv_y_pred = []\n",
        "\n",
        "kf = StratifiedKFold(n_splits=5, shuffle=True)\n",
        "\n",
        "for train_index, test_index in kf.split(x_filtered, y):\n",
        "    x_train = x_filtered[train_index, :]\n",
        "    y_train = y[train_index]\n",
        "\n",
        "    x_test = x_filtered[test_index, :]\n",
        "    y_test = y[test_index]\n",
        "\n",
        "    clf_cv = SVC(kernel='linear')\n",
        "    fselection_cv = SelectKBest(f_classif, k=int(x_filtered.shape[1] / 2))\n",
        "    fselection_cv.fit(x_train, y_train)\n",
        "    x_train = fselection_cv.transform(x_train)\n",
        "\n",
        "    clf_cv.fit(x_train, y_train)\n",
        "\n",
        "    x_test = fselection_cv.transform(x_test)\n",
        "    y_pred = clf_cv.predict(x_test)\n",
        "\n",
        "    cv_y_test.append(y_test)\n",
        "    cv_y_pred.append(y_pred)\n",
        "\n",
        "print(classification_report(np.concatenate(cv_y_test), np.concatenate(cv_y_pred)))"
      ],
      "metadata": {
        "colab": {
          "base_uri": "https://localhost:8080/"
        },
        "id": "QcCHugdNZh6h",
        "outputId": "5ebef892-8c15-4c37-c23e-03b2ee0a3d15"
      },
      "execution_count": 169,
      "outputs": [
        {
          "output_type": "stream",
          "name": "stdout",
          "text": [
            "----- Feature selection using 50% of predictors -----\n",
            "              precision    recall  f1-score   support\n",
            "\n",
            "         1.0       0.87      0.87      0.87       299\n",
            "         2.0       0.96      0.96      0.96       895\n",
            "\n",
            "    accuracy                           0.93      1194\n",
            "   macro avg       0.91      0.91      0.91      1194\n",
            "weighted avg       0.93      0.93      0.93      1194\n",
            "\n"
          ]
        }
      ]
    },
    {
      "cell_type": "code",
      "source": [
        "print(\"----- Optimal selection of number of features -----\")\n",
        "\n",
        "n_feats = np.arange(1, x_filtered.shape[1] + 1)\n",
        "acc_nfeat = []\n",
        "\n",
        "kf = StratifiedKFold(n_splits=5, shuffle=True)\n",
        "\n",
        "for n_feat in n_feats:\n",
        "    acc_cv = []\n",
        "    for train_index, test_index in kf.split(x_filtered, y):\n",
        "        x_train, x_test = x_filtered[train_index], x_filtered[test_index]\n",
        "        y_train, y_test = y[train_index], y[test_index]\n",
        "\n",
        "        fselection = SelectKBest(f_classif, k=n_feat)\n",
        "        fselection.fit(x_train, y_train)\n",
        "\n",
        "        x_train_sel = fselection.transform(x_train)\n",
        "        x_test_sel = fselection.transform(x_test)\n",
        "\n",
        "        clf = SVC(kernel='linear')\n",
        "        clf.fit(x_train_sel, y_train)\n",
        "        y_pred = clf.predict(x_test_sel)\n",
        "\n",
        "        acc_cv.append(accuracy_score(y_test, y_pred))\n",
        "\n",
        "    acc_nfeat.append(np.mean(acc_cv))\n",
        "    print(f\"features: {n_feat}, accuracy: {np.mean(acc_cv):.4f}\")\n",
        "\n",
        "\n",
        "opt_features = n_feats[np.argmax(acc_nfeat)]\n",
        "print(\"Optimal number of features: \", opt_features)\n",
        "\n",
        "plt.plot(n_feats, acc_nfeat, marker='o')\n",
        "plt.xlabel('features')\n",
        "plt.ylabel('accuracy')\n",
        "plt.title('accuracy vs features')\n",
        "plt.show()"
      ],
      "metadata": {
        "colab": {
          "base_uri": "https://localhost:8080/",
          "height": 1000
        },
        "id": "iSSzFiVRaL33",
        "outputId": "aacc6b0e-9bed-40dd-b9cd-f64bda5d39b7"
      },
      "execution_count": 170,
      "outputs": [
        {
          "output_type": "stream",
          "name": "stdout",
          "text": [
            "----- Optimal selection of number of features -----\n",
            "features: 1, accuracy: 0.8359\n",
            "features: 2, accuracy: 0.8819\n",
            "features: 3, accuracy: 0.8995\n",
            "features: 4, accuracy: 0.9137\n",
            "features: 5, accuracy: 0.9146\n",
            "features: 6, accuracy: 0.9138\n",
            "features: 7, accuracy: 0.9079\n",
            "features: 8, accuracy: 0.9213\n",
            "features: 9, accuracy: 0.9187\n",
            "features: 10, accuracy: 0.9213\n",
            "features: 11, accuracy: 0.9204\n",
            "features: 12, accuracy: 0.9213\n",
            "features: 13, accuracy: 0.9255\n",
            "features: 14, accuracy: 0.9305\n",
            "features: 15, accuracy: 0.9380\n",
            "features: 16, accuracy: 0.9355\n",
            "features: 17, accuracy: 0.9364\n",
            "features: 18, accuracy: 0.9397\n",
            "features: 19, accuracy: 0.9397\n",
            "features: 20, accuracy: 0.9405\n",
            "features: 21, accuracy: 0.9363\n",
            "features: 22, accuracy: 0.9372\n",
            "features: 23, accuracy: 0.9388\n",
            "features: 24, accuracy: 0.9414\n",
            "features: 25, accuracy: 0.9347\n",
            "features: 26, accuracy: 0.9372\n",
            "features: 27, accuracy: 0.9372\n",
            "features: 28, accuracy: 0.9389\n",
            "features: 29, accuracy: 0.9364\n",
            "features: 30, accuracy: 0.9397\n",
            "features: 31, accuracy: 0.9414\n",
            "features: 32, accuracy: 0.9414\n",
            "features: 33, accuracy: 0.9372\n",
            "features: 34, accuracy: 0.9372\n",
            "features: 35, accuracy: 0.9364\n",
            "features: 36, accuracy: 0.9355\n",
            "features: 37, accuracy: 0.9388\n",
            "features: 38, accuracy: 0.9397\n",
            "features: 39, accuracy: 0.9389\n",
            "features: 40, accuracy: 0.9313\n",
            "features: 41, accuracy: 0.9363\n",
            "features: 42, accuracy: 0.9380\n",
            "features: 43, accuracy: 0.9397\n",
            "features: 44, accuracy: 0.9363\n",
            "features: 45, accuracy: 0.9380\n",
            "features: 46, accuracy: 0.9230\n",
            "features: 47, accuracy: 0.9380\n",
            "features: 48, accuracy: 0.9321\n",
            "features: 49, accuracy: 0.9380\n",
            "features: 50, accuracy: 0.9405\n",
            "features: 51, accuracy: 0.9405\n",
            "features: 52, accuracy: 0.9288\n",
            "features: 53, accuracy: 0.9263\n",
            "features: 54, accuracy: 0.9313\n",
            "features: 55, accuracy: 0.9380\n",
            "features: 56, accuracy: 0.9364\n",
            "features: 57, accuracy: 0.9338\n",
            "features: 58, accuracy: 0.9313\n",
            "features: 59, accuracy: 0.9346\n",
            "features: 60, accuracy: 0.9338\n",
            "features: 61, accuracy: 0.9363\n",
            "features: 62, accuracy: 0.9389\n",
            "features: 63, accuracy: 0.9422\n",
            "features: 64, accuracy: 0.9439\n",
            "features: 65, accuracy: 0.9422\n",
            "features: 66, accuracy: 0.9439\n",
            "features: 67, accuracy: 0.9498\n",
            "features: 68, accuracy: 0.9405\n",
            "features: 69, accuracy: 0.9406\n",
            "features: 70, accuracy: 0.9405\n",
            "features: 71, accuracy: 0.9405\n",
            "features: 72, accuracy: 0.9456\n",
            "features: 73, accuracy: 0.9456\n",
            "features: 74, accuracy: 0.9380\n",
            "features: 75, accuracy: 0.9430\n",
            "features: 76, accuracy: 0.9380\n",
            "features: 77, accuracy: 0.9422\n",
            "features: 78, accuracy: 0.9397\n",
            "features: 79, accuracy: 0.9363\n",
            "features: 80, accuracy: 0.9313\n",
            "features: 81, accuracy: 0.9389\n",
            "features: 82, accuracy: 0.9414\n",
            "features: 83, accuracy: 0.9464\n",
            "features: 84, accuracy: 0.9397\n",
            "features: 85, accuracy: 0.9364\n",
            "features: 86, accuracy: 0.9389\n",
            "features: 87, accuracy: 0.9347\n",
            "features: 88, accuracy: 0.9388\n",
            "features: 89, accuracy: 0.9447\n",
            "features: 90, accuracy: 0.9439\n",
            "features: 91, accuracy: 0.9380\n",
            "features: 92, accuracy: 0.9364\n",
            "features: 93, accuracy: 0.9431\n",
            "features: 94, accuracy: 0.9414\n",
            "features: 95, accuracy: 0.9372\n",
            "features: 96, accuracy: 0.9355\n",
            "features: 97, accuracy: 0.9405\n",
            "features: 98, accuracy: 0.9406\n",
            "features: 99, accuracy: 0.9372\n",
            "features: 100, accuracy: 0.9414\n",
            "features: 101, accuracy: 0.9405\n",
            "features: 102, accuracy: 0.9422\n",
            "features: 103, accuracy: 0.9414\n",
            "features: 104, accuracy: 0.9347\n",
            "features: 105, accuracy: 0.9322\n",
            "features: 106, accuracy: 0.9330\n",
            "features: 107, accuracy: 0.9313\n",
            "features: 108, accuracy: 0.9288\n",
            "features: 109, accuracy: 0.9430\n",
            "features: 110, accuracy: 0.9380\n",
            "features: 111, accuracy: 0.9313\n",
            "features: 112, accuracy: 0.9439\n",
            "features: 113, accuracy: 0.9355\n",
            "features: 114, accuracy: 0.9372\n",
            "features: 115, accuracy: 0.9347\n",
            "features: 116, accuracy: 0.9380\n",
            "features: 117, accuracy: 0.9297\n",
            "features: 118, accuracy: 0.9355\n",
            "features: 119, accuracy: 0.9305\n",
            "features: 120, accuracy: 0.9271\n",
            "features: 121, accuracy: 0.9272\n",
            "features: 122, accuracy: 0.9380\n",
            "features: 123, accuracy: 0.9313\n",
            "features: 124, accuracy: 0.9380\n",
            "features: 125, accuracy: 0.9414\n",
            "features: 126, accuracy: 0.9414\n",
            "features: 127, accuracy: 0.9347\n",
            "features: 128, accuracy: 0.9389\n",
            "features: 129, accuracy: 0.9481\n",
            "features: 130, accuracy: 0.9456\n",
            "features: 131, accuracy: 0.9279\n",
            "features: 132, accuracy: 0.9397\n",
            "features: 133, accuracy: 0.9405\n",
            "features: 134, accuracy: 0.9221\n",
            "features: 135, accuracy: 0.9422\n",
            "features: 136, accuracy: 0.9364\n",
            "features: 137, accuracy: 0.9405\n",
            "features: 138, accuracy: 0.9330\n",
            "features: 139, accuracy: 0.9271\n",
            "features: 140, accuracy: 0.9288\n",
            "features: 141, accuracy: 0.9338\n",
            "features: 142, accuracy: 0.9397\n",
            "features: 143, accuracy: 0.9439\n",
            "features: 144, accuracy: 0.9447\n",
            "features: 145, accuracy: 0.9313\n",
            "features: 146, accuracy: 0.9439\n",
            "features: 147, accuracy: 0.9313\n",
            "features: 148, accuracy: 0.9363\n",
            "features: 149, accuracy: 0.9297\n",
            "features: 150, accuracy: 0.9447\n",
            "features: 151, accuracy: 0.9439\n",
            "features: 152, accuracy: 0.9330\n",
            "features: 153, accuracy: 0.9473\n",
            "Optimal number of features:  67\n"
          ]
        },
        {
          "output_type": "display_data",
          "data": {
            "text/plain": [
              "<Figure size 640x480 with 1 Axes>"
            ],
            "image/png": "[encoded data removed]"
          },
          "metadata": {}
        }
      ]
    },
    {
      "cell_type": "code",
      "source": [
        "# Fit model with optimal number of features\n",
        "\n",
        "fselection = SelectKBest(f_classif, k = opt_features)\n",
        "fselection.fit(x, y)\n",
        "\n",
        "selected_indices = fselection.get_support(indices=True)\n",
        "print(f\"features: {selected_indices}\")\n",
        "\n",
        "x_transformed = fselection.transform(x)\n",
        "clf = SVC(kernel='linear')\n",
        "clf.fit(x_transformed, y)\n",
        "\n",
        "cv_y_test = []\n",
        "cv_y_pred = []\n",
        "\n",
        "kf = StratifiedKFold(n_splits=5, shuffle=True)\n",
        "\n",
        "for train_index, test_index in kf.split(x, y):\n",
        "\n",
        "    x_train = x[train_index, :]\n",
        "    y_train = y[train_index]\n",
        "\n",
        "    fselection_cv = SelectKBest(f_classif, k=opt_features)\n",
        "    fselection_cv.fit(x_train, y_train)\n",
        "    x_train = fselection_cv.transform(x_train)\n",
        "\n",
        "    clf_cv = SVC(kernel='linear')\n",
        "    clf_cv.fit(x_train, y_train)\n",
        "\n",
        "    x_test = fselection_cv.transform(x[test_index, :])\n",
        "    y_test = y[test_index]\n",
        "    y_pred = clf_cv.predict(x_test)\n",
        "\n",
        "    cv_y_test.append(y_test)\n",
        "    cv_y_pred.append(y_pred)\n",
        "\n",
        "print(classification_report(np.concatenate(cv_y_test), np.concatenate(cv_y_pred)))"
      ],
      "metadata": {
        "colab": {
          "base_uri": "https://localhost:8080/"
        },
        "id": "JCBT4v0wsHxn",
        "outputId": "2f7a34ae-0215-421f-d7f9-79c8a9d0d7ad"
      },
      "execution_count": 171,
      "outputs": [
        {
          "output_type": "stream",
          "name": "stderr",
          "text": [
            "/usr/local/lib/python3.10/dist-packages/sklearn/feature_selection/_univariate_selection.py:112: UserWarning: Features [0] are constant.\n",
            "  warnings.warn(\"Features %s are constant.\" % constant_features_idx, UserWarning)\n",
            "/usr/local/lib/python3.10/dist-packages/sklearn/feature_selection/_univariate_selection.py:113: RuntimeWarning: invalid value encountered in divide\n",
            "  f = msb / msw\n",
            "/usr/local/lib/python3.10/dist-packages/sklearn/feature_selection/_univariate_selection.py:112: UserWarning: Features [0] are constant.\n",
            "  warnings.warn(\"Features %s are constant.\" % constant_features_idx, UserWarning)\n",
            "/usr/local/lib/python3.10/dist-packages/sklearn/feature_selection/_univariate_selection.py:113: RuntimeWarning: invalid value encountered in divide\n",
            "  f = msb / msw\n",
            "/usr/local/lib/python3.10/dist-packages/sklearn/feature_selection/_univariate_selection.py:112: UserWarning: Features [0] are constant.\n",
            "  warnings.warn(\"Features %s are constant.\" % constant_features_idx, UserWarning)\n",
            "/usr/local/lib/python3.10/dist-packages/sklearn/feature_selection/_univariate_selection.py:113: RuntimeWarning: invalid value encountered in divide\n",
            "  f = msb / msw\n",
            "/usr/local/lib/python3.10/dist-packages/sklearn/feature_selection/_univariate_selection.py:112: UserWarning: Features [0] are constant.\n",
            "  warnings.warn(\"Features %s are constant.\" % constant_features_idx, UserWarning)\n",
            "/usr/local/lib/python3.10/dist-packages/sklearn/feature_selection/_univariate_selection.py:113: RuntimeWarning: invalid value encountered in divide\n",
            "  f = msb / msw\n"
          ]
        },
        {
          "output_type": "stream",
          "name": "stdout",
          "text": [
            "features: [  1   2   3  11  12  13  16  17  18  19  20  21  23  24  25  26  27  28\n",
            "  29  30  31  34  35  36  54  62  63  64  66  67  68  69  73  74  75  76\n",
            "  80  81  82  83  84  88  89  90  91  92  93  94 102 119 120 121 125 126\n",
            " 127 128 135 136 137 138 139 140 141 142 143 152 153]\n",
            "              precision    recall  f1-score   support\n",
            "\n",
            "         1.0       0.91      0.89      0.90       299\n",
            "         2.0       0.96      0.97      0.97       895\n",
            "\n",
            "    accuracy                           0.95      1194\n",
            "   macro avg       0.93      0.93      0.93      1194\n",
            "weighted avg       0.95      0.95      0.95      1194\n",
            "\n"
          ]
        },
        {
          "output_type": "stream",
          "name": "stderr",
          "text": [
            "/usr/local/lib/python3.10/dist-packages/sklearn/feature_selection/_univariate_selection.py:112: UserWarning: Features [0] are constant.\n",
            "  warnings.warn(\"Features %s are constant.\" % constant_features_idx, UserWarning)\n",
            "/usr/local/lib/python3.10/dist-packages/sklearn/feature_selection/_univariate_selection.py:113: RuntimeWarning: invalid value encountered in divide\n",
            "  f = msb / msw\n",
            "/usr/local/lib/python3.10/dist-packages/sklearn/feature_selection/_univariate_selection.py:112: UserWarning: Features [0] are constant.\n",
            "  warnings.warn(\"Features %s are constant.\" % constant_features_idx, UserWarning)\n",
            "/usr/local/lib/python3.10/dist-packages/sklearn/feature_selection/_univariate_selection.py:113: RuntimeWarning: invalid value encountered in divide\n",
            "  f = msb / msw\n"
          ]
        }
      ]
    },
    {
      "cell_type": "code",
      "source": [
        "n_feats = np.arange(1, min(x.shape[1], 3) + 1)\n",
        "acc_nfeat = []\n",
        "\n",
        "for n_feat in n_feats:\n",
        "    print(f\"---- n features = {n_feat}\")\n",
        "\n",
        "    acc_cv = []\n",
        "\n",
        "    kf = StratifiedKFold(n_splits=5, shuffle=True)\n",
        "\n",
        "    for train_index, test_index in kf.split(x, y):\n",
        "\n",
        "        x_train = x[train_index, :]\n",
        "        y_train = y[train_index]\n",
        "\n",
        "        clf_cv = SVC(kernel='linear')\n",
        "\n",
        "        fselection_cv = SequentialFeatureSelector(clf_cv, n_features_to_select=n_feat, direction='forward')\n",
        "        fselection_cv.fit(x_train, y_train)\n",
        "        x_train = fselection_cv.transform(x_train)\n",
        "\n",
        "        clf_cv.fit(x_train, y_train)\n",
        "\n",
        "        x_test = fselection_cv.transform(x[test_index, :])\n",
        "        y_test = y[test_index]\n",
        "        y_pred = clf_cv.predict(x_test)\n",
        "\n",
        "        acc_i = accuracy_score(y_test, y_pred)\n",
        "        acc_cv.append(acc_i)\n",
        "\n",
        "    acc = np.average(acc_cv)\n",
        "    acc_nfeat.append(acc)\n",
        "    print(f'accuracy: {acc:.4f}')\n",
        "\n",
        "opt_index = np.argmax(acc_nfeat)\n",
        "opt_features = n_feats[opt_index]\n",
        "print(f\"optimal number of features: {opt_features}\")\n",
        "\n",
        "plt.plot(n_feats, acc_nfeat)\n",
        "plt.xlabel(\"features\")\n",
        "plt.ylabel(\"accuracy\")\n",
        "plt.title(\"accuracy vs features (sequential selector)\")\n",
        "plt.show()"
      ],
      "metadata": {
        "colab": {
          "base_uri": "https://localhost:8080/",
          "height": 597
        },
        "id": "-1R0OhP5wtGm",
        "outputId": "6b19029e-609a-411f-a94a-faab6a7543aa"
      },
      "execution_count": 172,
      "outputs": [
        {
          "output_type": "stream",
          "name": "stdout",
          "text": [
            "---- n features = 1\n",
            "accuracy: 0.8350\n",
            "---- n features = 2\n",
            "accuracy: 0.8953\n",
            "---- n features = 3\n",
            "accuracy: 0.8903\n",
            "optimal number of features: 2\n"
          ]
        },
        {
          "output_type": "display_data",
          "data": {
            "text/plain": [
              "<Figure size 640x480 with 1 Axes>"
            ],
            "image/png": "[encoded data removed]"
          },
          "metadata": {}
        }
      ]
    },
    {
      "cell_type": "code",
      "source": [
        "print(\"---- Fit model (sequential)-----\")\n",
        "\n",
        "clf = SVC(kernel='linear')\n",
        "fselection = SequentialFeatureSelector(clf, n_features_to_select=opt_features, direction='forward')\n",
        "fselection.fit(x, y)\n",
        "\n",
        "selected_indices = fselection.get_support(indices=True)\n",
        "print(f\"features: {selected_indices}\")\n",
        "\n",
        "x_transformed = fselection.transform(x)\n",
        "clf.fit(x_transformed, y)\n",
        "\n",
        "cv_y_test = []\n",
        "cv_y_pred = []\n",
        "\n",
        "kf = StratifiedKFold(n_splits=5, shuffle=True)\n",
        "\n",
        "for train_index, test_index in kf.split(x, y):\n",
        "\n",
        "    x_train = x[train_index, :]\n",
        "    y_train = y[train_index]\n",
        "\n",
        "    fselection_cv = SequentialFeatureSelector(clf, n_features_to_select=opt_features, direction='forward')\n",
        "    fselection_cv.fit(x_train, y_train)\n",
        "    x_train = fselection_cv.transform(x_train)\n",
        "\n",
        "    clf_cv = SVC(kernel='linear')\n",
        "    clf_cv.fit(x_train, y_train)\n",
        "\n",
        "    x_test = fselection_cv.transform(x[test_index, :])\n",
        "    y_test = y[test_index]\n",
        "    y_pred = clf_cv.predict(x_test)\n",
        "\n",
        "    cv_y_test.append(y_test)\n",
        "    cv_y_pred.append(y_pred)\n",
        "\n",
        "print(classification_report(np.concatenate(cv_y_test), np.concatenate(cv_y_pred)))"
      ],
      "metadata": {
        "colab": {
          "base_uri": "https://localhost:8080/"
        },
        "id": "y3hSGAjgHE4E",
        "outputId": "c635b58d-031c-443a-a989-b67da2920a05"
      },
      "execution_count": 173,
      "outputs": [
        {
          "output_type": "stream",
          "name": "stdout",
          "text": [
            "---- Fit model (sequential)-----\n",
            "features: [19 28]\n",
            "              precision    recall  f1-score   support\n",
            "\n",
            "         1.0       0.82      0.75      0.78       299\n",
            "         2.0       0.92      0.95      0.93       895\n",
            "\n",
            "    accuracy                           0.90      1194\n",
            "   macro avg       0.87      0.85      0.86      1194\n",
            "weighted avg       0.89      0.90      0.89      1194\n",
            "\n"
          ]
        }
      ]
    },
    {
      "cell_type": "code",
      "source": [
        "rfe = RFE(estimator=clf, n_features_to_select=int(n_features / 2))\n",
        "rfe.fit(x, y)\n",
        "\n",
        "selected_indices = rfe.get_support(indices=True)\n",
        "print(f\"features: {selected_indices}\")\n",
        "\n",
        "x_transformed = rfe.transform(x)\n",
        "\n",
        "cv_y_test = []\n",
        "cv_y_pred = []\n",
        "\n",
        "kf = StratifiedKFold(n_splits=5, shuffle=True)\n",
        "\n",
        "for train_index, test_index in kf.split(x_transformed, y):\n",
        "    x_train = x_transformed[train_index, :]\n",
        "    y_train = y[train_index]\n",
        "\n",
        "    x_test = x_transformed[test_index, :]\n",
        "    y_test = y[test_index]\n",
        "\n",
        "    clf_cv = SVC(kernel='linear')\n",
        "    clf_cv.fit(x_train, y_train)\n",
        "\n",
        "    y_pred = clf_cv.predict(x_test)\n",
        "\n",
        "    cv_y_test.append(y_test)\n",
        "    cv_y_pred.append(y_pred)\n",
        "\n",
        "print(classification_report(np.concatenate(cv_y_test), np.concatenate(cv_y_pred)))"
      ],
      "metadata": {
        "id": "amzEXNJtRfqQ"
      },
      "execution_count": null,
      "outputs": []
    },
    {
      "cell_type": "code",
      "source": [
        "print(\"----- Optimal selection of number of features -----\")\n",
        "\n",
        "n_feats = np.arange(1, min(x.shape[1], 3) + 1)\n",
        "acc_nfeat = []\n",
        "\n",
        "for n_feat in n_feats:\n",
        "    print(f\"---- n features = {n_feat}\")\n",
        "    acc_cv = []\n",
        "    for train_index, test_index in kf.split(x, y):\n",
        "        x_train = x[train_index, :]\n",
        "        y_train = y[train_index]\n",
        "\n",
        "        rfe = RFE(estimator=clf, n_features_to_select=n_feat)\n",
        "        rfe.fit(x_train, y_train)\n",
        "\n",
        "        x_train_sel = rfe.transform(x_train)\n",
        "        x_test_sel = rfe.transform(x[test_index, :])\n",
        "\n",
        "        clf.fit(x_train_sel, y_train)\n",
        "        y_pred = clf.predict(x_test_sel)\n",
        "\n",
        "        acc_i = accuracy_score(y[test_index], y_pred)\n",
        "        acc_cv.append(acc_i)\n",
        "\n",
        "    acc_nfeat.append(np.mean(acc_cv))\n",
        "    print(f\"features: {n_feat}, accuracy: {np.mean(acc_cv):.4f}\")\n",
        "\n",
        "opt_features = n_feats[np.argmax(acc_nfeat)]\n",
        "print(f\"Optimal number of features: {opt_features}\")\n",
        "\n",
        "plt.plot(n_feats, acc_nfeat, marker='o')\n",
        "plt.xlabel('features')\n",
        "plt.ylabel('accuracy')\n",
        "plt.title('accuracy vs features')\n",
        "plt.show()"
      ],
      "metadata": {
        "id": "p9NdOFQATzRQ"
      },
      "execution_count": null,
      "outputs": []
    },
    {
      "cell_type": "code",
      "source": [
        "rfe = RFE(estimator=clf, n_features_to_select=opt_features)\n",
        "rfe.fit(x, y)\n",
        "\n",
        "selected_indices = rfe.get_support(indices=True)\n",
        "print(f\"features: {selected_indices}\")\n",
        "\n",
        "x_transformed = rfe.transform(x)\n",
        "clf.fit(x_transformed, y)"
      ],
      "metadata": {
        "colab": {
          "base_uri": "https://localhost:8080/",
          "height": 93
        },
        "id": "prbnhkKeUFMS",
        "outputId": "944b4f51-c7ab-425f-99d9-16e8ce104e73"
      },
      "execution_count": 175,
      "outputs": [
        {
          "output_type": "stream",
          "name": "stdout",
          "text": [
            "features: [20 28]\n"
          ]
        },
        {
          "output_type": "execute_result",
          "data": {
            "text/plain": [
              "SVC(kernel='linear')"
            ],
            "text/html": [
              "<style>#sk-container-id-4 {color: black;}#sk-container-id-4 pre{padding: 0;}#sk-container-id-4 div.sk-toggleable {background-color: white;}#sk-container-id-4 label.sk-toggleable__label {cursor: pointer;display: block;width: 100%;margin-bottom: 0;padding: 0.3em;box-sizing: border-box;text-align: center;}#sk-container-id-4 label.sk-toggleable__label-arrow:before {content: \"▸\";float: left;margin-right: 0.25em;color: #696969;}#sk-container-id-4 label.sk-toggleable__label-arrow:hover:before {color: black;}#sk-container-id-4 div.sk-estimator:hover label.sk-toggleable__label-arrow:before {color: black;}#sk-container-id-4 div.sk-toggleable__content {max-height: 0;max-width: 0;overflow: hidden;text-align: left;background-color: #f0f8ff;}#sk-container-id-4 div.sk-toggleable__content pre {margin: 0.2em;color: black;border-radius: 0.25em;background-color: #f0f8ff;}#sk-container-id-4 input.sk-toggleable__control:checked~div.sk-toggleable__content {max-height: 200px;max-width: 100%;overflow: auto;}#sk-container-id-4 input.sk-toggleable__control:checked~label.sk-toggleable__label-arrow:before {content: \"▾\";}#sk-container-id-4 div.sk-estimator input.sk-toggleable__control:checked~label.sk-toggleable__label {background-color: #d4ebff;}#sk-container-id-4 div.sk-label input.sk-toggleable__control:checked~label.sk-toggleable__label {background-color: #d4ebff;}#sk-container-id-4 input.sk-hidden--visually {border: 0;clip: rect(1px 1px 1px 1px);clip: rect(1px, 1px, 1px, 1px);height: 1px;margin: -1px;overflow: hidden;padding: 0;position: absolute;width: 1px;}#sk-container-id-4 div.sk-estimator {font-family: monospace;background-color: #f0f8ff;border: 1px dotted black;border-radius: 0.25em;box-sizing: border-box;margin-bottom: 0.5em;}#sk-container-id-4 div.sk-estimator:hover {background-color: #d4ebff;}#sk-container-id-4 div.sk-parallel-item::after {content: \"\";width: 100%;border-bottom: 1px solid gray;flex-grow: 1;}#sk-container-id-4 div.sk-label:hover label.sk-toggleable__label {background-color: #d4ebff;}#sk-container-id-4 div.sk-serial::before {content: \"\";position: absolute;border-left: 1px solid gray;box-sizing: border-box;top: 0;bottom: 0;left: 50%;z-index: 0;}#sk-container-id-4 div.sk-serial {display: flex;flex-direction: column;align-items: center;background-color: white;padding-right: 0.2em;padding-left: 0.2em;position: relative;}#sk-container-id-4 div.sk-item {position: relative;z-index: 1;}#sk-container-id-4 div.sk-parallel {display: flex;align-items: stretch;justify-content: center;background-color: white;position: relative;}#sk-container-id-4 div.sk-item::before, #sk-container-id-4 div.sk-parallel-item::before {content: \"\";position: absolute;border-left: 1px solid gray;box-sizing: border-box;top: 0;bottom: 0;left: 50%;z-index: -1;}#sk-container-id-4 div.sk-parallel-item {display: flex;flex-direction: column;z-index: 1;position: relative;background-color: white;}#sk-container-id-4 div.sk-parallel-item:first-child::after {align-self: flex-end;width: 50%;}#sk-container-id-4 div.sk-parallel-item:last-child::after {align-self: flex-start;width: 50%;}#sk-container-id-4 div.sk-parallel-item:only-child::after {width: 0;}#sk-container-id-4 div.sk-dashed-wrapped {border: 1px dashed gray;margin: 0 0.4em 0.5em 0.4em;box-sizing: border-box;padding-bottom: 0.4em;background-color: white;}#sk-container-id-4 div.sk-label label {font-family: monospace;font-weight: bold;display: inline-block;line-height: 1.2em;}#sk-container-id-4 div.sk-label-container {text-align: center;}#sk-container-id-4 div.sk-container {/* jupyter's `normalize.less` sets `[hidden] { display: none; }` but bootstrap.min.css set `[hidden] { display: none !important; }` so we also need the `!important` here to be able to override the default hidden behavior on the sphinx rendered scikit-learn.org. See: https://github.com/scikit-learn/scikit-learn/issues/21755 */display: inline-block !important;position: relative;}#sk-container-id-4 div.sk-text-repr-fallback {display: none;}</style><div id=\"sk-container-id-4\" class=\"sk-top-container\"><div class=\"sk-text-repr-fallback\"><pre>SVC(kernel=&#x27;linear&#x27;)</pre><b>In a Jupyter environment, please rerun this cell to show the HTML representation or trust the notebook. <br />On GitHub, the HTML representation is unable to render, please try loading this page with nbviewer.org.</b></div><div class=\"sk-container\" hidden><div class=\"sk-item\"><div class=\"sk-estimator sk-toggleable\"><input class=\"sk-toggleable__control sk-hidden--visually\" id=\"sk-estimator-id-4\" type=\"checkbox\" checked><label for=\"sk-estimator-id-4\" class=\"sk-toggleable__label sk-toggleable__label-arrow\">SVC</label><div class=\"sk-toggleable__content\"><pre>SVC(kernel=&#x27;linear&#x27;)</pre></div></div></div></div></div>"
            ]
          },
          "metadata": {},
          "execution_count": 175
        }
      ]
    },
    {
      "cell_type": "code",
      "source": [
        "opt_features = 10\n",
        "\n",
        "fselection = SelectKBest(f_classif, k=opt_features)\n",
        "fselection.fit(x, y)\n",
        "\n",
        "selected_indices = fselection.get_support(indices=True)\n",
        "print(f\"features: {selected_indices}\")\n",
        "\n",
        "x_transformed = fselection.transform(x)\n",
        "\n",
        "clf = SVC(kernel='linear')\n",
        "clf.fit(x_transformed, y)\n",
        "\n",
        "print(\"Modelo para producción.\")"
      ],
      "metadata": {
        "id": "Ndfm1UvdVjz0"
      },
      "execution_count": null,
      "outputs": []
    },
    {
      "cell_type": "markdown",
      "source": [
        "Contesta las siguientes preguntas:\n",
        "\n",
        "a. ¿Qué pasa si no se considera el problema de tener datos desbalanceados para este caso? ¿Por qué?\n",
        "\n",
        "**R = El modelo puede tender a favorecer a la clase que es mayoría. El clasificador se inclinaría a predecir siempre la clase que es mayoría ignorando a la clase minoritaria.**\n",
        "\n",
        "**Podría tener un muy alto accuracy, dando un falso ¨buen¨ rendimiento.**\n",
        "\n",
        "**El modelo puede sobreajustarse a la clase mayoritaria porque tiene más datos para aprender de esa clase.**\n",
        "\n",
        "b. De todos los clasificadores, ¿cuál o cuales consideras que son adecuados para los datos? ¿Qué propiedades tienen dichos modelos que los hacen apropiados para los datos? Argumenta tu respuesta.\n",
        "\n",
        "**R = SVM y Random Forest parecen ser los más adecuados, ya que ofrecen propiedas necesarias para poder ajustarse a datos complejos y ambos pueden manejar clases desbalanceadas.**\n",
        "\n",
        "\n",
        "b. ¿Es posibles reducir la dimensionalidad del problema sin perder rendimiento en el modelo? ¿Por qué?\n",
        "\n",
        "**R = Sí es posible. En muchos casos los modelos no necesitan todas las caracteristicas para tener un buen rendimiento, reducir la dimensionalidad ayuda a eliminar ruido y se vuelve más eficiente.**\n",
        "\n",
        "\n",
        "c. ¿Qué método de selección de características consideras el más adecuado para este caso? ¿Por qué?\n",
        "\n",
        "**El método filter es el más adecuado por su simplicidad, eficiencia, independencia y la capacidad para identificar las características más relevantes.**\n",
        "\n",
        "d.  Si quisieras mejorar el rendimiento de tus modelos, ¿qué más se podría hacer?\n",
        "\n",
        "**R = Es fundamental balancear datos y seleccionar características, optimizar hiperparámetros y probar modelos más avanzados.**"
      ],
      "metadata": {
        "id": "S3RWKadzWMX9"
      }
    },
    {
      "cell_type": "code",
      "source": [
        "data = np.loadtxt('M_3.txt')"
      ],
      "metadata": {
        "id": "RktFBGUdZ8RI"
      },
      "execution_count": 187,
      "outputs": []
    },
    {
      "cell_type": "code",
      "source": [
        "x = data[:,1:]\n",
        "y = data[:,0]"
      ],
      "metadata": {
        "id": "KoyXYa-GbpnG"
      },
      "execution_count": 188,
      "outputs": []
    },
    {
      "cell_type": "code",
      "source": [
        "unique, counts = np.unique(y, return_counts=True)\n",
        "class_distribution = dict(zip(unique, counts))\n",
        "\n",
        "print(\"Distribución de clases:\", class_distribution)\n",
        "\n",
        "plt.bar(unique, counts)\n",
        "plt.xlabel('Clases')\n",
        "plt.ylabel('Número de ejemplos')\n",
        "plt.title('Distribución de clases en el conjunto de datos')\n",
        "plt.show()\n",
        "\n",
        "total = sum(counts)\n",
        "class_ratios = [count / total for count in counts]\n",
        "\n",
        "for i, ratio in enumerate(class_ratios):\n",
        "    print(f\"Proporción de la clase {unique[i]}: {ratio:.2%}\")\n",
        "\n",
        "if min(class_ratios) / max(class_ratios) < 0.5:\n",
        "    print(\"Es necesario balancear los datos.\")\n",
        "else:\n",
        "    print(\"No es necesario balancear los datos.\")"
      ],
      "metadata": {
        "colab": {
          "base_uri": "https://localhost:8080/",
          "height": 633
        },
        "id": "PlxTXO1_cQ6H",
        "outputId": "9731e6be-abfd-42c8-8818-3dfb278ee8fe"
      },
      "execution_count": 189,
      "outputs": [
        {
          "output_type": "stream",
          "name": "stdout",
          "text": [
            "Distribución de clases: {1.0: 90, 2.0: 90, 3.0: 90, 4.0: 90, 5.0: 90, 6.0: 90, 7.0: 90}\n"
          ]
        },
        {
          "output_type": "display_data",
          "data": {
            "text/plain": [
              "<Figure size 640x480 with 1 Axes>"
            ],
            "image/png": "[encoded data removed]"
          },
          "metadata": {}
        },
        {
          "output_type": "stream",
          "name": "stdout",
          "text": [
            "Proporción de la clase 1.0: 14.29%\n",
            "Proporción de la clase 2.0: 14.29%\n",
            "Proporción de la clase 3.0: 14.29%\n",
            "Proporción de la clase 4.0: 14.29%\n",
            "Proporción de la clase 5.0: 14.29%\n",
            "Proporción de la clase 6.0: 14.29%\n",
            "Proporción de la clase 7.0: 14.29%\n",
            "No es necesario balancear los datos.\n"
          ]
        }
      ]
    },
    {
      "cell_type": "code",
      "source": [
        "print('----- Linear-SVM -----')\n",
        "kf = StratifiedKFold(n_splits=5, shuffle = True)\n",
        "\n",
        "cv_y_test = []\n",
        "cv_y_pred = []\n",
        "\n",
        "for train_index, test_index in kf.split(x, y):\n",
        "\n",
        "    x_train = x[train_index, :]\n",
        "    y_train = y[train_index]\n",
        "\n",
        "    x_test = x[test_index, :]\n",
        "    y_test = y[test_index]\n",
        "\n",
        "    clf = SVC(kernel = 'linear')\n",
        "    clf.fit(x_train, y_train)\n",
        "\n",
        "    y_pred = clf.predict(x_test)\n",
        "\n",
        "    cv_y_test.append(y_test)\n",
        "    cv_y_pred.append(y_pred)\n",
        "\n",
        "print(classification_report(np.concatenate(cv_y_test), np.concatenate(cv_y_pred)))"
      ],
      "metadata": {
        "colab": {
          "base_uri": "https://localhost:8080/"
        },
        "id": "eoUka99fo9Bu",
        "outputId": "c3a894a0-d501-401d-f6c4-36664ccf6c9a"
      },
      "execution_count": 178,
      "outputs": [
        {
          "output_type": "stream",
          "name": "stdout",
          "text": [
            "----- Linear-SVM -----\n",
            "              precision    recall  f1-score   support\n",
            "\n",
            "         1.0       0.86      0.86      0.86       299\n",
            "         2.0       0.95      0.95      0.95       895\n",
            "\n",
            "    accuracy                           0.93      1194\n",
            "   macro avg       0.91      0.91      0.91      1194\n",
            "weighted avg       0.93      0.93      0.93      1194\n",
            "\n"
          ]
        }
      ]
    },
    {
      "cell_type": "code",
      "source": [
        "print('----- RBF-SVM -----')\n",
        "kf = StratifiedKFold(n_splits=5, shuffle = True)\n",
        "\n",
        "cv_y_test = []\n",
        "cv_y_pred = []\n",
        "\n",
        "for train_index, test_index in kf.split(x, y):\n",
        "\n",
        "    x_train = x[train_index, :]\n",
        "    y_train = y[train_index]\n",
        "\n",
        "    x_test = x[test_index, :]\n",
        "    y_test = y[test_index]\n",
        "\n",
        "    clf = SVC(kernel = 'rbf')\n",
        "    clf.fit(x_train, y_train)\n",
        "\n",
        "    y_pred = clf.predict(x_test)\n",
        "\n",
        "    cv_y_test.append(y_test)\n",
        "    cv_y_pred.append(y_pred)\n",
        "\n",
        "print(classification_report(np.concatenate(cv_y_test), np.concatenate(cv_y_pred)))"
      ],
      "metadata": {
        "colab": {
          "base_uri": "https://localhost:8080/"
        },
        "id": "3aIUZJBdpU1k",
        "outputId": "83ed27d6-1929-4814-bc26-eccbbc9e0b84"
      },
      "execution_count": 179,
      "outputs": [
        {
          "output_type": "stream",
          "name": "stdout",
          "text": [
            "----- RBF-SVM -----\n",
            "              precision    recall  f1-score   support\n",
            "\n",
            "         1.0       0.97      0.84      0.90       299\n",
            "         2.0       0.95      0.99      0.97       895\n",
            "\n",
            "    accuracy                           0.95      1194\n",
            "   macro avg       0.96      0.92      0.94      1194\n",
            "weighted avg       0.95      0.95      0.95      1194\n",
            "\n"
          ]
        }
      ]
    },
    {
      "cell_type": "code",
      "source": [
        "print('----- KNN -----')\n",
        "kf = StratifiedKFold(n_splits=5, shuffle = True)\n",
        "\n",
        "cv_y_test = []\n",
        "cv_y_pred = []\n",
        "\n",
        "for train_index, test_index in kf.split(x, y):\n",
        "\n",
        "    x_train = x[train_index, :]\n",
        "    y_train = y[train_index]\n",
        "\n",
        "    x_test = x[test_index, :]\n",
        "    y_test = y[test_index]\n",
        "\n",
        "    clf = KNeighborsClassifier(n_neighbors=3)\n",
        "    clf.fit(x_train, y_train)\n",
        "\n",
        "    y_pred = clf.predict(x_test)\n",
        "\n",
        "    cv_y_test.append(y_test)\n",
        "    cv_y_pred.append(y_pred)\n",
        "\n",
        "print(classification_report(np.concatenate(cv_y_test), np.concatenate(cv_y_pred)))"
      ],
      "metadata": {
        "colab": {
          "base_uri": "https://localhost:8080/"
        },
        "id": "SFLorGRKpkeV",
        "outputId": "4feea942-dbab-43f0-f2a7-64f4695cb90a"
      },
      "execution_count": 180,
      "outputs": [
        {
          "output_type": "stream",
          "name": "stdout",
          "text": [
            "----- KNN -----\n",
            "              precision    recall  f1-score   support\n",
            "\n",
            "         1.0       0.89      0.80      0.84       299\n",
            "         2.0       0.93      0.97      0.95       895\n",
            "\n",
            "    accuracy                           0.93      1194\n",
            "   macro avg       0.91      0.88      0.90      1194\n",
            "weighted avg       0.92      0.93      0.92      1194\n",
            "\n"
          ]
        }
      ]
    },
    {
      "cell_type": "code",
      "source": [
        "print('----- Decision tree -----')\n",
        "kf = StratifiedKFold(n_splits=5, shuffle = True)\n",
        "\n",
        "cv_y_test = []\n",
        "cv_y_pred = []\n",
        "\n",
        "for train_index, test_index in kf.split(x, y):\n",
        "\n",
        "    x_train = x[train_index, :]\n",
        "    y_train = y[train_index]\n",
        "\n",
        "    x_test = x[test_index, :]\n",
        "    y_test = y[test_index]\n",
        "\n",
        "    clf = DecisionTreeClassifier()\n",
        "    clf.fit(x_train, y_train)\n",
        "\n",
        "    y_pred = clf.predict(x_test)\n",
        "\n",
        "    cv_y_test.append(y_test)\n",
        "    cv_y_pred.append(y_pred)\n",
        "\n",
        "print(classification_report(np.concatenate(cv_y_test), np.concatenate(cv_y_pred)))"
      ],
      "metadata": {
        "colab": {
          "base_uri": "https://localhost:8080/"
        },
        "id": "Iyv8ODyKpq6s",
        "outputId": "930712fc-cfce-4f90-b967-6b1b6aaa9b17"
      },
      "execution_count": 181,
      "outputs": [
        {
          "output_type": "stream",
          "name": "stdout",
          "text": [
            "----- Decision tree -----\n",
            "              precision    recall  f1-score   support\n",
            "\n",
            "         1.0       0.73      0.73      0.73       299\n",
            "         2.0       0.91      0.91      0.91       895\n",
            "\n",
            "    accuracy                           0.86      1194\n",
            "   macro avg       0.82      0.82      0.82      1194\n",
            "weighted avg       0.86      0.86      0.86      1194\n",
            "\n"
          ]
        }
      ]
    },
    {
      "cell_type": "code",
      "source": [
        "print('----- Linear Discriminant Analysis -----')\n",
        "\n",
        "kf = StratifiedKFold(n_splits=5, shuffle = True)\n",
        "\n",
        "cv_y_test = []\n",
        "cv_y_pred = []\n",
        "\n",
        "for train_index, test_index in kf.split(x, y):\n",
        "\n",
        "    x_train = x[train_index, :]\n",
        "    y_train = y[train_index]\n",
        "\n",
        "    x_test = x[test_index, :]\n",
        "    y_test = y[test_index]\n",
        "\n",
        "    clf = LinearDiscriminantAnalysis()\n",
        "    clf.fit(x_train, y_train)\n",
        "\n",
        "    y_pred = clf.predict(x_test)\n",
        "\n",
        "    cv_y_test.append(y_test)\n",
        "    cv_y_pred.append(y_pred)\n",
        "\n",
        "print(classification_report(np.concatenate(cv_y_test), np.concatenate(cv_y_pred)))"
      ],
      "metadata": {
        "colab": {
          "base_uri": "https://localhost:8080/"
        },
        "id": "7f5uNoSup1RT",
        "outputId": "05986132-202b-4c37-8509-e980044592a4"
      },
      "execution_count": 182,
      "outputs": [
        {
          "output_type": "stream",
          "name": "stdout",
          "text": [
            "----- Linear Discriminant Analysis -----\n",
            "              precision    recall  f1-score   support\n",
            "\n",
            "         1.0       0.90      0.85      0.87       299\n",
            "         2.0       0.95      0.97      0.96       895\n",
            "\n",
            "    accuracy                           0.94      1194\n",
            "   macro avg       0.92      0.91      0.91      1194\n",
            "weighted avg       0.94      0.94      0.94      1194\n",
            "\n"
          ]
        }
      ]
    },
    {
      "cell_type": "code",
      "source": [
        "print('----- Naive Bayes -----')\n",
        "\n",
        "kf = StratifiedKFold(n_splits=5, shuffle = True)\n",
        "\n",
        "cv_y_test = []\n",
        "cv_y_pred = []\n",
        "\n",
        "for train_index, test_index in kf.split(x, y):\n",
        "\n",
        "    x_train = x[train_index, :]\n",
        "    y_train = y[train_index]\n",
        "    x_test = x[test_index, :]\n",
        "    y_test = y[test_index]\n",
        "\n",
        "    clf = GaussianNB()\n",
        "    clf.fit(x_train, y_train)\n",
        "\n",
        "    y_pred = clf.predict(x_test)\n",
        "\n",
        "    cv_y_test.append(y_test)\n",
        "    cv_y_pred.append(y_pred)\n",
        "\n",
        "print(classification_report(np.concatenate(cv_y_test), np.concatenate(cv_y_pred)))"
      ],
      "metadata": {
        "colab": {
          "base_uri": "https://localhost:8080/"
        },
        "id": "418s1A9_p-0W",
        "outputId": "d695d985-f590-44d0-a4ad-fcb9643afbed"
      },
      "execution_count": 183,
      "outputs": [
        {
          "output_type": "stream",
          "name": "stdout",
          "text": [
            "----- Naive Bayes -----\n",
            "              precision    recall  f1-score   support\n",
            "\n",
            "         1.0       0.84      0.90      0.87       299\n",
            "         2.0       0.97      0.94      0.95       895\n",
            "\n",
            "    accuracy                           0.93      1194\n",
            "   macro avg       0.90      0.92      0.91      1194\n",
            "weighted avg       0.93      0.93      0.93      1194\n",
            "\n",
            "----- Naive Bayes -----\n",
            "              precision    recall  f1-score   support\n",
            "\n",
            "         1.0       0.84      0.90      0.87       299\n",
            "         2.0       0.97      0.94      0.95       895\n",
            "\n",
            "    accuracy                           0.93      1194\n",
            "   macro avg       0.90      0.92      0.91      1194\n",
            "weighted avg       0.93      0.93      0.93      1194\n",
            "\n"
          ]
        }
      ]
    },
    {
      "cell_type": "code",
      "source": [
        "print('----- Gradient Boosting -----')\n",
        "\n",
        "kf = StratifiedKFold(n_splits=5, shuffle = True)\n",
        "\n",
        "cv_y_test = []\n",
        "cv_y_pred = []\n",
        "\n",
        "for train_index, test_index in kf.split(x, y):\n",
        "\n",
        "    x_train = x[train_index, :]\n",
        "    y_train = y[train_index]\n",
        "    x_test = x[test_index, :]\n",
        "    y_test = y[test_index]\n",
        "\n",
        "    clf = GradientBoostingClassifier()\n",
        "    clf.fit(x_train, y_train)\n",
        "\n",
        "    y_pred = clf.predict(x_test)\n",
        "\n",
        "    cv_y_test.append(y_test)\n",
        "    cv_y_pred.append(y_pred)\n",
        "\n",
        "print(classification_report(np.concatenate(cv_y_test), np.concatenate(cv_y_pred)))"
      ],
      "metadata": {
        "colab": {
          "base_uri": "https://localhost:8080/"
        },
        "id": "JaZ3WFMHqFrK",
        "outputId": "3050e0a1-43cf-47f5-e9bd-79d6b0dbc88d"
      },
      "execution_count": null,
      "outputs": [
        {
          "output_type": "stream",
          "name": "stdout",
          "text": [
            "----- Gradient Boosting -----\n"
          ]
        }
      ]
    },
    {
      "cell_type": "code",
      "source": [
        "print('----- Random Forest -----')\n",
        "\n",
        "kf = StratifiedKFold(n_splits=5, shuffle = True)\n",
        "\n",
        "cv_y_test = []\n",
        "cv_y_pred = []\n",
        "\n",
        "for train_index, test_index in kf.split(x, y):\n",
        "\n",
        "    x_train = x[train_index, :]\n",
        "    y_train = y[train_index]\n",
        "    x_test = x[test_index, :]\n",
        "    y_test = y[test_index]\n",
        "\n",
        "    clf = RandomForestClassifier(n_estimators=100)\n",
        "    clf.fit(x_train, y_train)\n",
        "\n",
        "    y_pred = clf.predict(x_test)\n",
        "\n",
        "    cv_y_test.append(y_test)\n",
        "    cv_y_pred.append(y_pred)\n",
        "\n",
        "print(classification_report(np.concatenate(cv_y_test), np.concatenate(cv_y_pred)))"
      ],
      "metadata": {
        "id": "XV6FssqRsHiG"
      },
      "execution_count": null,
      "outputs": []
    },
    {
      "cell_type": "code",
      "source": [
        "param_grid_svm = {'C': np.logspace(-3, 1, 10)}\n",
        "param_grid_knn = {'n_neighbors': np.arange(1, 15)}\n",
        "\n",
        "svm_model = SVC(kernel='linear')\n",
        "knn_model = KNeighborsClassifier()\n",
        "\n",
        "inner_cv = StratifiedKFold(n_splits=5, shuffle=True)\n",
        "outer_cv = StratifiedKFold(n_splits=5, shuffle=True)\n",
        "\n",
        "svm_grid = GridSearchCV(estimator=svm_model, param_grid=param_grid_svm, cv=inner_cv)\n",
        "svm_scores = []\n",
        "\n",
        "for train_index, test_index in outer_cv.split(x, y):\n",
        "    x_train, x_test = x[train_index], x[test_index]\n",
        "    y_train, y_test = y[train_index], y[test_index]\n",
        "\n",
        "    svm_grid.fit(x_train, y_train)\n",
        "    y_pred = svm_grid.predict(x_test)\n",
        "\n",
        "    acc = accuracy_score(y_test, y_pred)\n",
        "    svm_scores.append(acc)\n",
        "    print(f\"SVM Fold Accuracy: {acc:.4f}\")\n",
        "\n",
        "print(f\"SVM mean accuracy: {np.mean(svm_scores):.4f}\")\n",
        "\n",
        "# GridSearch para KNN\n",
        "knn_grid = GridSearchCV(estimator=knn_model, param_grid=param_grid_knn, cv=inner_cv)\n",
        "knn_scores = []\n",
        "\n",
        "for train_index, test_index in outer_cv.split(x, y):\n",
        "    x_train, x_test = x[train_index], x[test_index]\n",
        "    y_train, y_test = y[train_index], y[test_index]\n",
        "\n",
        "    knn_grid.fit(x_train, y_train)\n",
        "    y_pred = knn_grid.predict(x_test)\n",
        "\n",
        "    acc = accuracy_score(y_test, y_pred)\n",
        "    knn_scores.append(acc)\n",
        "    print(f\"KNN fold accuracy: {acc:.4f}\")\n",
        "\n",
        "print(f\"KNN mean accuracy: {np.mean(knn_scores):.4f}\")\n",
        "\n",
        "print(f\"best SVM hyperparameter C: {svm_grid.best_params_}\")\n",
        "print(f\"best KNN hyperparameter n_neighbors: {knn_grid.best_params_}\")\n",
        "\n",
        "plt.bar(['SVM', 'KNN'], [np.mean(svm_scores), np.mean(knn_scores)])\n",
        "plt.ylabel('mean accuracy')\n",
        "plt.title('nested cross-validation')\n",
        "plt.show()"
      ],
      "metadata": {
        "id": "YJFYesPGbpXx"
      },
      "execution_count": null,
      "outputs": []
    },
    {
      "cell_type": "code",
      "source": [
        "param_grid_svm = {'C': np.logspace(-3, 1, 10)}\n",
        "param_grid_knn = {'n_neighbors': np.arange(1, 15)}\n",
        "\n",
        "svm_model = SVC(kernel='linear')\n",
        "knn_model = KNeighborsClassifier()\n",
        "\n",
        "cv = StratifiedKFold(n_splits=5, shuffle=True)\n",
        "\n",
        "svm_grid = GridSearchCV(estimator=svm_model, param_grid=param_grid_svm, cv=cv)\n",
        "svm_grid.fit(x, y)\n",
        "best_svm = svm_grid.best_estimator_\n",
        "\n",
        "print(f\"best SVM hyperparameter C: {svm_grid.best_params_}\")\n",
        "\n",
        "knn_grid = GridSearchCV(estimator=knn_model, param_grid=param_grid_knn, cv=cv)\n",
        "knn_grid.fit(x, y)\n",
        "best_knn = knn_grid.best_estimator_\n",
        "\n",
        "print(f\"best KNN hyperparameter n_neighbors: {knn_grid.best_params_}\")\n",
        "\n",
        "\n",
        "best_svm.fit(x, y)\n",
        "best_knn.fit(x, y)"
      ],
      "metadata": {
        "id": "-KegWNfaqnEe"
      },
      "execution_count": null,
      "outputs": []
    }
  ]
}